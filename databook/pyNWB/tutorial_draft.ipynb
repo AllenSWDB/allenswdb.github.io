{
 "cells": [
  {
   "cell_type": "markdown",
   "id": "53033e57",
   "metadata": {},
   "source": [
    "This tutorial will demonstrate the structure of the data file in an NWB (Neurodata Without Borders) file. In this particular example, we will be accessing information from an optotagging experiment, where the cells have light-gated ion channels that are activated by lasers. The data was taken using neuropixel opto (but details about all the devices used, as well as the experimental apparatus, are included in the NWB file).\n",
    "\n",
    "We begin with package imports which we'll need:"
   ]
  },
  {
   "cell_type": "code",
   "execution_count": 1,
   "id": "2235d6e4",
   "metadata": {},
   "outputs": [],
   "source": [
    "import os\n",
    "import glob\n",
    "from hdmf_zarr import NWBZarrIO\n",
    "from nwbwidgets import nwb2widget\n",
    "import nwbinspector\n",
    "\n",
    "from tqdm.auto import tqdm\n",
    "import json"
   ]
  },
  {
   "cell_type": "markdown",
   "id": "4948b6f1",
   "metadata": {},
   "source": [
    "In order to do any analysis, of course, we'll also need the usual libraries:"
   ]
  },
  {
   "cell_type": "code",
   "execution_count": 2,
   "id": "a7418c0c",
   "metadata": {},
   "outputs": [],
   "source": [
    "import numpy as np\n",
    "import pandas as pd\n",
    "import matplotlib.pyplot as plt"
   ]
  },
  {
   "cell_type": "markdown",
   "id": "0f0122b3",
   "metadata": {},
   "source": [
    "## Accessing an NWB file\n",
    "\n",
    "To manipulate the data in the file, we first need to load it into Python. We can do this using ```glob```, which will allow us to search the directory in which our data is located for particular strings. In this case, let's say we want to look for experiments involving a particular mouse."
   ]
  },
  {
   "cell_type": "code",
   "execution_count": 3,
   "id": "917aa101",
   "metadata": {},
   "outputs": [
    {
     "name": "stdout",
     "output_type": "stream",
     "text": [
      "/data/ecephys_625098_2022-08-15_08-51-36_nwb_2023-05-16_16-28-23/ecephys_625098_2022-08-15_08-51-36_nwb/ecephys_625098_2022-08-15_08-51-36_experiment1_recording1.nwb.zarr\n"
     ]
    }
   ],
   "source": [
    "mouse_id = '625098'\n",
    "\n",
    "nwb_file = glob.glob(os.path.join('/data', '*' + mouse_id + '*', '*', '*.nwb.zarr'))[0]\n",
    "\n",
    "print(nwb_file)"
   ]
  },
  {
   "cell_type": "markdown",
   "id": "5e3df808",
   "metadata": {},
   "source": [
    "Above, we have used ```glob``` to look for all the files found in /data/ that include the mouse ID we're interested in and generates a Python list with each file's path as its entries. In this case, the data we have mounted only has one file pertaining to mouse 625098, so the list has only one object in it. However, if we had picked a different mouse ID, the list might have more than one entry, in which case we would need to select which file we wanted using a different index.\n",
    "\n",
    "Now that we have the NWB file's path, we should read it into Python:"
   ]
  },
  {
   "cell_type": "code",
   "execution_count": 4,
   "id": "c52cc497",
   "metadata": {},
   "outputs": [],
   "source": [
    "with NWBZarrIO(nwb_file, \"r\") as io:\n",
    "    nwbfile_read = io.read()"
   ]
  },
  {
   "cell_type": "markdown",
   "id": "508449ec",
   "metadata": {},
   "source": [
    "At this point, we're ready to start working with the data. The first thing we might be interested in is just seeing the contents of the NWB file, which we can do by using the ```nwb2widget``` tool:"
   ]
  },
  {
   "cell_type": "code",
   "execution_count": 5,
   "id": "0a35a540",
   "metadata": {},
   "outputs": [
    {
     "data": {
      "application/vnd.jupyter.widget-view+json": {
       "model_id": "56abcdff3d88438d9729487d0b8998d6",
       "version_major": 2,
       "version_minor": 0
      },
      "text/plain": [
       "VBox(children=(HBox(children=(Label(value='session_description:', layout=Layout(max_height='40px', max_width='…"
      ]
     },
     "execution_count": 5,
     "metadata": {},
     "output_type": "execute_result"
    }
   ],
   "source": [
    "nwb2widget(nwbfile_read)"
   ]
  },
  {
   "cell_type": "markdown",
   "id": "dadeb4b1",
   "metadata": {},
   "source": [
    "We can also access particular parts of the file. Of particular importance, for example, are the individual units (roughly corresponding to what we believe are individual neurons) in an experiment. We can access the units as a Pandas ```DataFrame``` object:"
   ]
  },
  {
   "cell_type": "code",
   "execution_count": 6,
   "id": "89535fda",
   "metadata": {},
   "outputs": [],
   "source": [
    "units = nwbfile_read.units[:]"
   ]
  },
  {
   "cell_type": "markdown",
   "id": "68ac9925",
   "metadata": {},
   "source": [
    "Notice that the various tables contained in the file are simply attributes of the ```nwbfile_read``` object, which we access in the usual way ```nwbfile_read.*```.\n",
    "\n",
    "In the units, we can examine what information we can gather from any particular unit of interest:"
   ]
  },
  {
   "cell_type": "code",
   "execution_count": 7,
   "id": "7608341e",
   "metadata": {},
   "outputs": [
    {
     "name": "stdout",
     "output_type": "stream",
     "text": [
      "['spike_times' 'electrodes' 'waveform_mean' 'waveform_sd' 'unit_name'\n",
      " 'num_spikes' 'amplitude' 'isi_violations_ratio' 'default_qc' 'snr'\n",
      " 'd_prime' 'ks_unit_id' 'sliding_rp_violation' 'amplitude_cutoff'\n",
      " 'repolarization_slope' 'drift_std' 'isolation_distance' 'peak_to_valley'\n",
      " 'device_name' 'l_ratio' 'peak_trough_ratio' 'recovery_slope'\n",
      " 'presence_ratio' 'drift_ptp' 'drift_mad' 'half_width' 'rp_violations'\n",
      " 'firing_rate' 'rp_contamination']\n"
     ]
    }
   ],
   "source": [
    "print(units.columns.values)"
   ]
  },
  {
   "cell_type": "code",
   "execution_count": 21,
   "id": "f6106219",
   "metadata": {},
   "outputs": [
    {
     "name": "stdout",
     "output_type": "stream",
     "text": [
      "spike_times             [249.5327840854837, 249.55278609349838, 249.57...\n",
      "electrodes              [0, 1, 2, 3, 4, 5, 6, 7, 8, 9, 10, 11, 12, 13,...\n",
      "waveform_mean           [[-3.496347427368164, -0.8022295236587524, -1....\n",
      "waveform_sd             [[36.19879150390625, 37.099369049072266, 33.44...\n",
      "unit_name                            7d5990f0-f128-4e0a-ba4d-c858bc4e9f46\n",
      "num_spikes                                                        52420.0\n",
      "amplitude                                                      259.323608\n",
      "isi_violations_ratio                                              0.00031\n",
      "default_qc                                                           True\n",
      "snr                                                              14.09992\n",
      "d_prime                                                          4.629638\n",
      "ks_unit_id                                                            0.0\n",
      "sliding_rp_violation                                                0.005\n",
      "amplitude_cutoff                                                 0.000013\n",
      "repolarization_slope                                       3646623.555966\n",
      "drift_std                                                        6.105312\n",
      "isolation_distance                                             105.683352\n",
      "peak_to_valley                                                    0.00021\n",
      "device_name                                                       Probe A\n",
      "l_ratio                                                          0.200015\n",
      "peak_trough_ratio                                               -0.521746\n",
      "recovery_slope                                             -281665.802166\n",
      "presence_ratio                                                        1.0\n",
      "drift_ptp                                                       22.492954\n",
      "drift_mad                                                         4.55394\n",
      "half_width                                                        0.00013\n",
      "rp_violations                                                         1.0\n",
      "firing_rate                                                     20.519493\n",
      "rp_contamination                                                 0.000465\n",
      "Name: 0, dtype: object\n"
     ]
    }
   ],
   "source": [
    "print(units.iloc[0])"
   ]
  },
  {
   "cell_type": "markdown",
   "id": "25e858c9",
   "metadata": {},
   "source": [
    "We may also be interested in quality metrics for a given unit. We can access and plot them as follows:"
   ]
  },
  {
   "cell_type": "code",
   "execution_count": 46,
   "id": "5ae46ecf",
   "metadata": {},
   "outputs": [
    {
     "name": "stdout",
     "output_type": "stream",
     "text": [
      "id\n",
      "0      0.000310\n",
      "1      0.543146\n",
      "2      0.644697\n",
      "3      0.005970\n",
      "4      0.070705\n",
      "         ...   \n",
      "447    0.000000\n",
      "448    0.269065\n",
      "449    0.058061\n",
      "450    0.000000\n",
      "451    5.715241\n",
      "Name: isi_violations_ratio, Length: 452, dtype: float64\n"
     ]
    }
   ],
   "source": [
    "print(units['isi_violations_ratio'])"
   ]
  },
  {
   "cell_type": "code",
   "execution_count": 49,
   "id": "6934c782",
   "metadata": {},
   "outputs": [
    {
     "data": {
      "image/png": "[encoded data removed]",
      "text/plain": [
       "<Figure size 1000x600 with 6 Axes>"
      ]
     },
     "metadata": {},
     "output_type": "display_data"
    }
   ],
   "source": [
    "%matplotlib inline\n",
    "\n",
    "def plot_metric(metric, threshold=None, use_log=False):  \n",
    "    m = units[metric].dropna()\n",
    "    if use_log:\n",
    "        m = np.log10(m+1e-5) # add small offset to avoid log(0)\n",
    "    h,v = np.histogram(m, bins=30)\n",
    "    plt.plot(v[:-1],h)\n",
    "    if use_log:\n",
    "        plt.xlabel(\"log \"+metric, fontsize=16)\n",
    "    else:\n",
    "        plt.xlabel(metric, fontsize=16)\n",
    "    if threshold:\n",
    "        plt.axvline(x=threshold, ls='--', color='k')\n",
    "        \n",
    "qc_metrics = ['isi_violations_ratio','amplitude_cutoff','presence_ratio','firing_rate','amplitude','snr']\n",
    "thresholds = [0.5, 0.1, 0.8, None, None, None]\n",
    "use_log = [True, False, False, True, False, False]\n",
    "plt.figure(figsize=(10,6))\n",
    "for i, metric in enumerate(qc_metrics):\n",
    "    plt.subplot(2,3,i+1)\n",
    "    plot_metric(metric, thresholds[i], use_log[i])\n",
    "    plt.tight_layout()\n"
   ]
  },
  {
   "cell_type": "markdown",
   "id": "b9f81d4b",
   "metadata": {},
   "source": [
    "And check how many of the units pass default quality control metrics:"
   ]
  },
  {
   "cell_type": "code",
   "execution_count": 50,
   "id": "26482ec8",
   "metadata": {},
   "outputs": [
    {
     "name": "stdout",
     "output_type": "stream",
     "text": [
      "234\n"
     ]
    }
   ],
   "source": [
    "units_passing_qc = units[units.default_qc=='True']\n",
    "print(len(units_passing_qc))"
   ]
  },
  {
   "cell_type": "markdown",
   "id": "bc9ef583",
   "metadata": {},
   "source": [
    "We might also be interested in seeing details on the subject for this experiment:"
   ]
  },
  {
   "cell_type": "code",
   "execution_count": 11,
   "id": "10d1e9dc",
   "metadata": {},
   "outputs": [
    {
     "name": "stdout",
     "output_type": "stream",
     "text": [
      "subject pynwb.file.Subject at 0x139857478575968\n",
      "Fields:\n",
      "  age: P159D\n",
      "  age__reference: birth\n",
      "  date_of_birth: 2022-03-09 00:00:00-08:00\n",
      "  genotype: Slc17a6-IRES-Cre/wt\n",
      "  sex: F\n",
      "  species: Mus musculus\n",
      "  subject_id: 625098\n",
      "\n"
     ]
    }
   ],
   "source": [
    "print(nwbfile_read.subject)"
   ]
  },
  {
   "cell_type": "markdown",
   "id": "c1c35c9b",
   "metadata": {},
   "source": [
    "Or information on the trials done and what information we can look at in each trial:"
   ]
  },
  {
   "cell_type": "code",
   "execution_count": 17,
   "id": "8ef0048c",
   "metadata": {},
   "outputs": [
    {
     "name": "stdout",
     "output_type": "stream",
     "text": [
      "['start_time' 'stop_time' 'site' 'power' 'param_group' 'duration'\n",
      " 'rise_time' 'num_pulses' 'wavelength' 'type' 'inter_pulse_interval'\n",
      " 'stimulus_template_name']\n"
     ]
    }
   ],
   "source": [
    "trials = nwbfile_read.trials[:]\n",
    "print(trials.columns.values)"
   ]
  },
  {
   "cell_type": "code",
   "execution_count": 18,
   "id": "1b4e4093",
   "metadata": {},
   "outputs": [
    {
     "name": "stdout",
     "output_type": "stream",
     "text": [
      "['internal_red-short_pulse-0.06mW' 'internal_red-train-0.01mW'\n",
      " 'external_red-short_pulse-10.0mW' 'external_red-short_pulse-5.0mW'\n",
      " 'internal_red-long_pulse-0.06mW' 'internal_red-train-0.06mW'\n",
      " 'external_red-long_pulse-1.0mW' 'external_red-train-1.0mW'\n",
      " 'internal_red-short_pulse-0.01mW' 'external_red-train-3.0mW'\n",
      " 'internal_red-long_pulse-0.01mW' 'external_red-long_pulse-2.0mW'\n",
      " 'external_red-short_pulse-4.0mW' 'external_red-train-4.0mW'\n",
      " 'external_red-train-5.0mW' 'external_red-train-10.0mW'\n",
      " 'external_red-short_pulse-3.0mW' 'external_red-long_pulse-3.0mW'\n",
      " 'external_red-long_pulse-4.0mW' 'external_red-short_pulse-1.0mW'\n",
      " 'external_red-train-2.0mW' 'external_red-long_pulse-10.0mW'\n",
      " 'external_red-long_pulse-5.0mW' 'external_red-short_pulse-2.0mW']\n"
     ]
    }
   ],
   "source": [
    "print(trials.stimulus_template_name.unique())"
   ]
  },
  {
   "cell_type": "code",
   "execution_count": 24,
   "id": "4e519cc7",
   "metadata": {
    "scrolled": true
   },
   "outputs": [
    {
     "name": "stdout",
     "output_type": "stream",
     "text": [
      "5100\n"
     ]
    }
   ],
   "source": [
    "print(len(trials))"
   ]
  },
  {
   "cell_type": "code",
   "execution_count": 25,
   "id": "d45a37d1",
   "metadata": {},
   "outputs": [
    {
     "name": "stdout",
     "output_type": "stream",
     "text": [
      "start_time                                   1211.763679\n",
      "stop_time                                    1212.593679\n",
      "site                                                   0\n",
      "power                                                4.0\n",
      "param_group                                  short_pulse\n",
      "duration                                            0.01\n",
      "rise_time                                          0.001\n",
      "num_pulses                                             1\n",
      "wavelength                                           638\n",
      "type                                        external_red\n",
      "inter_pulse_interval                                 0.0\n",
      "stimulus_template_name    external_red-short_pulse-4.0mW\n",
      "Name: 1582, dtype: object\n"
     ]
    }
   ],
   "source": [
    "print(trials.iloc[1582])"
   ]
  },
  {
   "cell_type": "markdown",
   "id": "6baa7eb3",
   "metadata": {},
   "source": [
    "We might be interested in looking for issues with the data or ways to improve efficiency when grabbing data (for example, if our time steps are constant, it might be better to simply specify a time range and a sampling rate). One way to look for this is by using ```NWBInspector``` to check for compliance with best practices. We can look grab any messages that ```NWBInspector``` has using the ```inspect_nwbfile_object``` command. "
   ]
  },
  {
   "cell_type": "code",
   "execution_count": 26,
   "id": "97325fc8",
   "metadata": {},
   "outputs": [],
   "source": [
    "from nwbinspector import inspect_nwbfile_object\n",
    "\n",
    "messages = list(inspect_nwbfile_object(nwbfile_read))"
   ]
  },
  {
   "cell_type": "code",
   "execution_count": 30,
   "id": "d45fe362",
   "metadata": {},
   "outputs": [
    {
     "name": "stdout",
     "output_type": "stream",
     "text": [
      "81\n"
     ]
    }
   ],
   "source": [
    "print(len(messages))"
   ]
  },
  {
   "cell_type": "markdown",
   "id": "9e6e0d83",
   "metadata": {},
   "source": [
    "This has given us 81 messages, but they're not all necessarily critical messages. Let's take a look at the information in a particular message:"
   ]
  },
  {
   "cell_type": "code",
   "execution_count": 34,
   "id": "cc1e7bed",
   "metadata": {},
   "outputs": [
    {
     "name": "stdout",
     "output_type": "stream",
     "text": [
      "InspectorMessage(\n",
      "    message=\"Description ('No description.') is a placeholder.\",\n",
      "    importance=<Importance.BEST_PRACTICE_SUGGESTION: 0>,\n",
      "    severity=<Severity.LOW: 1>,\n",
      "    check_function_name='check_description',\n",
      "    object_type='VectorData',\n",
      "    object_name='rp_contamination',\n",
      "    location=None,\n",
      "    file_path=None\n",
      ")\n"
     ]
    }
   ],
   "source": [
    "print(messages[0])"
   ]
  },
  {
   "cell_type": "markdown",
   "id": "378f26af",
   "metadata": {},
   "source": [
    "As we can see, this isn't very readable. We can improve readability using a built-in tool in ```nwbinspector```, ```format_messages```:"
   ]
  },
  {
   "cell_type": "code",
   "execution_count": 35,
   "id": "05547908",
   "metadata": {},
   "outputs": [
    {
     "name": "stdout",
     "output_type": "stream",
     "text": [
      "**************************************************\n",
      "NWBInspector Report Summary\n",
      "\n",
      "Timestamp: 2024-06-11 19:10:43.080224+00:00\n",
      "Platform: Linux-4.14.343-260.564.amzn2.x86_64-x86_64-with-glibc2.10\n",
      "NWBInspector version: 0.4.28\n",
      "\n",
      "Found 81 issues over 1 files:\n",
      "      25 - BEST_PRACTICE_VIOLATION\n",
      "      56 - BEST_PRACTICE_SUGGESTION\n",
      "**************************************************\n",
      "\n",
      "\n",
      ".0  Importance.BEST_PRACTICE_VIOLATION: None - check_time_interval_time_columns - 'TimeIntervals' object with name 'trials'\n",
      "      Message: ['rise_time'] are time columns but the values are not in ascending order. All times should be in seconds with respect to the session start time.\n",
      "\n",
      ".1  Importance.BEST_PRACTICE_VIOLATION: None - check_regular_timestamps - 'TimeSeries' object with name 'internal_red-train-0.06mW'\n",
      "      Message: TimeSeries appears to have a constant sampling rate. Consider specifying starting_time=-0.01 and rate=3.333333333333313e-05 instead of timestamps.\n",
      "\n",
      ".2  Importance.BEST_PRACTICE_VIOLATION: None - check_regular_timestamps - 'TimeSeries' object with name 'internal_red-train-0.01mW'\n",
      "      Message: TimeSeries appears to have a constant sampling rate. Consider specifying starting_time=-0.01 and rate=3.333333333333313e-05 instead of timestamps.\n",
      "\n",
      ".3  Importance.BEST_PRACTICE_VIOLATION: None - check_regular_timestamps - 'TimeSeries' object with name 'internal_red-short_pulse-0.06mW'\n",
      "      Message: TimeSeries appears to have a constant sampling rate. Consider specifying starting_time=-0.01 and rate=3.333333333333313e-05 instead of timestamps.\n",
      "\n",
      ".4  Importance.BEST_PRACTICE_VIOLATION: None - check_regular_timestamps - 'TimeSeries' object with name 'internal_red-short_pulse-0.01mW'\n",
      "      Message: TimeSeries appears to have a constant sampling rate. Consider specifying starting_time=-0.01 and rate=3.333333333333313e-05 instead of timestamps.\n",
      "\n",
      ".5  Importance.BEST_PRACTICE_VIOLATION: None - check_regular_timestamps - 'TimeSeries' object with name 'internal_red-long_pulse-0.06mW'\n",
      "      Message: TimeSeries appears to have a constant sampling rate. Consider specifying starting_time=-0.01 and rate=3.333333333333313e-05 instead of timestamps.\n",
      "\n",
      ".6  Importance.BEST_PRACTICE_VIOLATION: None - check_regular_timestamps - 'TimeSeries' object with name 'internal_red-long_pulse-0.01mW'\n",
      "      Message: TimeSeries appears to have a constant sampling rate. Consider specifying starting_time=-0.01 and rate=3.333333333333313e-05 instead of timestamps.\n",
      "\n",
      ".7  Importance.BEST_PRACTICE_VIOLATION: None - check_regular_timestamps - 'TimeSeries' object with name 'external_red-train-5.0mW'\n",
      "      Message: TimeSeries appears to have a constant sampling rate. Consider specifying starting_time=-0.01 and rate=3.333333333333313e-05 instead of timestamps.\n",
      "\n",
      ".8  Importance.BEST_PRACTICE_VIOLATION: None - check_regular_timestamps - 'TimeSeries' object with name 'external_red-train-4.0mW'\n",
      "      Message: TimeSeries appears to have a constant sampling rate. Consider specifying starting_time=-0.01 and rate=3.333333333333313e-05 instead of timestamps.\n",
      "\n",
      ".9  Importance.BEST_PRACTICE_VIOLATION: None - check_regular_timestamps - 'TimeSeries' object with name 'external_red-train-3.0mW'\n",
      "      Message: TimeSeries appears to have a constant sampling rate. Consider specifying starting_time=-0.01 and rate=3.333333333333313e-05 instead of timestamps.\n",
      "\n",
      ".10  Importance.BEST_PRACTICE_VIOLATION: None - check_regular_timestamps - 'TimeSeries' object with name 'external_red-train-2.0mW'\n",
      "       Message: TimeSeries appears to have a constant sampling rate. Consider specifying starting_time=-0.01 and rate=3.333333333333313e-05 instead of timestamps.\n",
      "\n",
      ".11  Importance.BEST_PRACTICE_VIOLATION: None - check_regular_timestamps - 'TimeSeries' object with name 'external_red-train-10.0mW'\n",
      "       Message: TimeSeries appears to have a constant sampling rate. Consider specifying starting_time=-0.01 and rate=3.333333333333313e-05 instead of timestamps.\n",
      "\n",
      ".12  Importance.BEST_PRACTICE_VIOLATION: None - check_regular_timestamps - 'TimeSeries' object with name 'external_red-train-1.0mW'\n",
      "       Message: TimeSeries appears to have a constant sampling rate. Consider specifying starting_time=-0.01 and rate=3.333333333333313e-05 instead of timestamps.\n",
      "\n",
      ".13  Importance.BEST_PRACTICE_VIOLATION: None - check_regular_timestamps - 'TimeSeries' object with name 'external_red-short_pulse-5.0mW'\n",
      "       Message: TimeSeries appears to have a constant sampling rate. Consider specifying starting_time=-0.01 and rate=3.333333333333313e-05 instead of timestamps.\n",
      "\n",
      ".14  Importance.BEST_PRACTICE_VIOLATION: None - check_regular_timestamps - 'TimeSeries' object with name 'external_red-short_pulse-4.0mW'\n",
      "       Message: TimeSeries appears to have a constant sampling rate. Consider specifying starting_time=-0.01 and rate=3.333333333333313e-05 instead of timestamps.\n",
      "\n",
      ".15  Importance.BEST_PRACTICE_VIOLATION: None - check_regular_timestamps - 'TimeSeries' object with name 'external_red-short_pulse-3.0mW'\n",
      "       Message: TimeSeries appears to have a constant sampling rate. Consider specifying starting_time=-0.01 and rate=3.333333333333313e-05 instead of timestamps.\n",
      "\n",
      ".16  Importance.BEST_PRACTICE_VIOLATION: None - check_regular_timestamps - 'TimeSeries' object with name 'external_red-short_pulse-2.0mW'\n",
      "       Message: TimeSeries appears to have a constant sampling rate. Consider specifying starting_time=-0.01 and rate=3.333333333333313e-05 instead of timestamps.\n",
      "\n",
      ".17  Importance.BEST_PRACTICE_VIOLATION: None - check_regular_timestamps - 'TimeSeries' object with name 'external_red-short_pulse-10.0mW'\n",
      "       Message: TimeSeries appears to have a constant sampling rate. Consider specifying starting_time=-0.01 and rate=3.333333333333313e-05 instead of timestamps.\n",
      "\n",
      ".18  Importance.BEST_PRACTICE_VIOLATION: None - check_regular_timestamps - 'TimeSeries' object with name 'external_red-short_pulse-1.0mW'\n",
      "       Message: TimeSeries appears to have a constant sampling rate. Consider specifying starting_time=-0.01 and rate=3.333333333333313e-05 instead of timestamps.\n",
      "\n",
      ".19  Importance.BEST_PRACTICE_VIOLATION: None - check_regular_timestamps - 'TimeSeries' object with name 'external_red-long_pulse-5.0mW'\n",
      "       Message: TimeSeries appears to have a constant sampling rate. Consider specifying starting_time=-0.01 and rate=3.333333333333313e-05 instead of timestamps.\n",
      "\n",
      ".20  Importance.BEST_PRACTICE_VIOLATION: None - check_regular_timestamps - 'TimeSeries' object with name 'external_red-long_pulse-4.0mW'\n",
      "       Message: TimeSeries appears to have a constant sampling rate. Consider specifying starting_time=-0.01 and rate=3.333333333333313e-05 instead of timestamps.\n",
      "\n",
      ".21  Importance.BEST_PRACTICE_VIOLATION: None - check_regular_timestamps - 'TimeSeries' object with name 'external_red-long_pulse-3.0mW'\n",
      "       Message: TimeSeries appears to have a constant sampling rate. Consider specifying starting_time=-0.01 and rate=3.333333333333313e-05 instead of timestamps.\n",
      "\n",
      ".22  Importance.BEST_PRACTICE_VIOLATION: None - check_regular_timestamps - 'TimeSeries' object with name 'external_red-long_pulse-2.0mW'\n",
      "       Message: TimeSeries appears to have a constant sampling rate. Consider specifying starting_time=-0.01 and rate=3.333333333333313e-05 instead of timestamps.\n",
      "\n",
      ".23  Importance.BEST_PRACTICE_VIOLATION: None - check_regular_timestamps - 'TimeSeries' object with name 'external_red-long_pulse-10.0mW'\n",
      "       Message: TimeSeries appears to have a constant sampling rate. Consider specifying starting_time=-0.01 and rate=3.333333333333313e-05 instead of timestamps.\n",
      "\n",
      ".24  Importance.BEST_PRACTICE_VIOLATION: None - check_regular_timestamps - 'TimeSeries' object with name 'external_red-long_pulse-1.0mW'\n",
      "       Message: TimeSeries appears to have a constant sampling rate. Consider specifying starting_time=-0.01 and rate=3.333333333333313e-05 instead of timestamps.\n",
      "\n",
      ".25  Importance.BEST_PRACTICE_SUGGESTION: None - check_description - 'VectorData' object with name 'rp_contamination'\n",
      "       Message: Description ('No description.') is a placeholder.\n",
      "\n",
      ".26  Importance.BEST_PRACTICE_SUGGESTION: None - check_description - 'VectorData' object with name 'rp_violations'\n",
      "       Message: Description ('No description.') is a placeholder.\n",
      "\n",
      ".27  Importance.BEST_PRACTICE_SUGGESTION: None - check_description - 'VectorData' object with name 'half_width'\n",
      "       Message: Description ('No description.') is a placeholder.\n",
      "\n",
      ".28  Importance.BEST_PRACTICE_SUGGESTION: None - check_description - 'VectorData' object with name 'drift_mad'\n",
      "       Message: Description ('No description.') is a placeholder.\n",
      "\n",
      ".29  Importance.BEST_PRACTICE_SUGGESTION: None - check_description - 'VectorData' object with name 'drift_ptp'\n",
      "       Message: Description ('No description.') is a placeholder.\n",
      "\n",
      ".30  Importance.BEST_PRACTICE_SUGGESTION: None - check_description - 'VectorData' object with name 'presence_ratio'\n",
      "       Message: Description ('No description.') is a placeholder.\n",
      "\n",
      ".31  Importance.BEST_PRACTICE_SUGGESTION: None - check_description - 'VectorData' object with name 'recovery_slope'\n",
      "       Message: Description ('No description.') is a placeholder.\n",
      "\n",
      ".32  Importance.BEST_PRACTICE_SUGGESTION: None - check_description - 'VectorData' object with name 'peak_trough_ratio'\n",
      "       Message: Description ('No description.') is a placeholder.\n",
      "\n",
      ".33  Importance.BEST_PRACTICE_SUGGESTION: None - check_description - 'VectorData' object with name 'l_ratio'\n",
      "       Message: Description ('No description.') is a placeholder.\n",
      "\n",
      ".34  Importance.BEST_PRACTICE_SUGGESTION: None - check_description - 'VectorData' object with name 'device_name'\n",
      "       Message: Description ('No description.') is a placeholder.\n",
      "\n",
      ".35  Importance.BEST_PRACTICE_SUGGESTION: None - check_description - 'VectorData' object with name 'isolation_distance'\n",
      "       Message: Description ('No description.') is a placeholder.\n",
      "\n",
      ".36  Importance.BEST_PRACTICE_SUGGESTION: None - check_description - 'VectorData' object with name 'drift_std'\n",
      "       Message: Description ('No description.') is a placeholder.\n",
      "\n",
      ".37  Importance.BEST_PRACTICE_SUGGESTION: None - check_description - 'VectorData' object with name 'repolarization_slope'\n",
      "       Message: Description ('No description.') is a placeholder.\n",
      "\n",
      ".38  Importance.BEST_PRACTICE_SUGGESTION: None - check_description - 'VectorData' object with name 'amplitude_cutoff'\n",
      "       Message: Description ('No description.') is a placeholder.\n",
      "\n",
      ".39  Importance.BEST_PRACTICE_SUGGESTION: None - check_description - 'VectorData' object with name 'sliding_rp_violation'\n",
      "       Message: Description ('No description.') is a placeholder.\n",
      "\n",
      ".40  Importance.BEST_PRACTICE_SUGGESTION: None - check_description - 'VectorData' object with name 'ks_unit_id'\n",
      "       Message: Description ('No description.') is a placeholder.\n",
      "\n",
      ".41  Importance.BEST_PRACTICE_SUGGESTION: None - check_description - 'VectorData' object with name 'd_prime'\n",
      "       Message: Description ('No description.') is a placeholder.\n",
      "\n",
      ".42  Importance.BEST_PRACTICE_SUGGESTION: None - check_description - 'VectorData' object with name 'default_qc'\n",
      "       Message: Description ('No description.') is a placeholder.\n",
      "\n",
      ".43  Importance.BEST_PRACTICE_SUGGESTION: None - check_description - 'VectorData' object with name 'isi_violations_ratio'\n",
      "       Message: Description ('No description.') is a placeholder.\n",
      "\n",
      ".44  Importance.BEST_PRACTICE_SUGGESTION: None - check_description - 'VectorData' object with name 'amplitude'\n",
      "       Message: Description ('No description.') is a placeholder.\n",
      "\n",
      ".45  Importance.BEST_PRACTICE_SUGGESTION: None - check_description - 'VectorData' object with name 'num_spikes'\n",
      "       Message: Description ('No description.') is a placeholder.\n",
      "\n",
      ".46  Importance.BEST_PRACTICE_SUGGESTION: None - check_description - 'Subject' object at location '/general/subject'\n",
      "       Message: Description is missing.\n",
      "\n",
      ".47  Importance.BEST_PRACTICE_SUGGESTION: None - check_description - 'VectorData' object with name 'inter_pulse_interval'\n",
      "       Message: Description is missing.\n",
      "\n",
      ".48  Importance.BEST_PRACTICE_SUGGESTION: None - check_description - 'VectorData' object with name 'quality'\n",
      "       Message: Description ('no description') is a placeholder.\n",
      "\n",
      ".49  Importance.BEST_PRACTICE_SUGGESTION: None - check_description - 'VectorData' object with name 'offset_to_uV'\n",
      "       Message: Description ('no description') is a placeholder.\n",
      "\n",
      ".50  Importance.BEST_PRACTICE_SUGGESTION: None - check_description - 'VectorData' object with name 'gain_to_uV'\n",
      "       Message: Description ('no description') is a placeholder.\n",
      "\n",
      ".51  Importance.BEST_PRACTICE_SUGGESTION: None - check_description - 'VectorData' object with name 'inter_sample_shift'\n",
      "       Message: Description ('no description') is a placeholder.\n",
      "\n",
      ".52  Importance.BEST_PRACTICE_SUGGESTION: None - check_description - 'VectorData' object with name 'channel_name'\n",
      "       Message: Description ('no description') is a placeholder.\n",
      "\n",
      ".53  Importance.BEST_PRACTICE_SUGGESTION: None - check_empty_string_for_optional_attribute - 'NWBFile' object at location '/'\n",
      "       Message: The attribute \"experiment_description\" is optional and you have supplied an empty string. Improve my omitting this attribute (in MatNWB or PyNWB) or entering as None (in PyNWB)\n",
      "\n",
      ".54  Importance.BEST_PRACTICE_SUGGESTION: None - check_experimenter_form - 'NWBFile' object at location '/'\n",
      "       Message: The name of experimenter 'Anna Lakunina' does not match any of the accepted DANDI forms: 'LastName, Firstname', 'LastName, FirstName MiddleInitial.' or 'LastName, FirstName, MiddleName'.\n",
      "\n",
      ".55  Importance.BEST_PRACTICE_SUGGESTION: None - check_experiment_description - 'NWBFile' object at location '/'\n",
      "       Message: Experiment description is missing.\n",
      "\n",
      ".56  Importance.BEST_PRACTICE_SUGGESTION: None - check_keywords - 'NWBFile' object at location '/'\n",
      "       Message: Metadata /general/keywords is missing.\n",
      "\n",
      ".57  Importance.BEST_PRACTICE_SUGGESTION: None - check_timestamp_of_the_first_sample_is_not_negative - 'TimeSeries' object with name 'internal_red-train-0.06mW'\n",
      "       Message: Timestamps should not be negative. It is recommended to align the `session_start_time` or `timestamps_reference_time` to be the earliest time value that occurs in the data, and shift all other signals accordingly.\n",
      "\n",
      ".58  Importance.BEST_PRACTICE_SUGGESTION: None - check_timestamp_of_the_first_sample_is_not_negative - 'TimeSeries' object with name 'internal_red-train-0.01mW'\n",
      "       Message: Timestamps should not be negative. It is recommended to align the `session_start_time` or `timestamps_reference_time` to be the earliest time value that occurs in the data, and shift all other signals accordingly.\n",
      "\n",
      ".59  Importance.BEST_PRACTICE_SUGGESTION: None - check_timestamp_of_the_first_sample_is_not_negative - 'TimeSeries' object with name 'internal_red-short_pulse-0.06mW'\n",
      "       Message: Timestamps should not be negative. It is recommended to align the `session_start_time` or `timestamps_reference_time` to be the earliest time value that occurs in the data, and shift all other signals accordingly.\n",
      "\n",
      ".60  Importance.BEST_PRACTICE_SUGGESTION: None - check_timestamp_of_the_first_sample_is_not_negative - 'TimeSeries' object with name 'internal_red-short_pulse-0.01mW'\n",
      "       Message: Timestamps should not be negative. It is recommended to align the `session_start_time` or `timestamps_reference_time` to be the earliest time value that occurs in the data, and shift all other signals accordingly.\n",
      "\n",
      ".61  Importance.BEST_PRACTICE_SUGGESTION: None - check_timestamp_of_the_first_sample_is_not_negative - 'TimeSeries' object with name 'internal_red-long_pulse-0.06mW'\n",
      "       Message: Timestamps should not be negative. It is recommended to align the `session_start_time` or `timestamps_reference_time` to be the earliest time value that occurs in the data, and shift all other signals accordingly.\n",
      "\n",
      ".62  Importance.BEST_PRACTICE_SUGGESTION: None - check_timestamp_of_the_first_sample_is_not_negative - 'TimeSeries' object with name 'internal_red-long_pulse-0.01mW'\n",
      "       Message: Timestamps should not be negative. It is recommended to align the `session_start_time` or `timestamps_reference_time` to be the earliest time value that occurs in the data, and shift all other signals accordingly.\n",
      "\n",
      ".63  Importance.BEST_PRACTICE_SUGGESTION: None - check_timestamp_of_the_first_sample_is_not_negative - 'TimeSeries' object with name 'external_red-train-5.0mW'\n",
      "       Message: Timestamps should not be negative. It is recommended to align the `session_start_time` or `timestamps_reference_time` to be the earliest time value that occurs in the data, and shift all other signals accordingly.\n",
      "\n",
      ".64  Importance.BEST_PRACTICE_SUGGESTION: None - check_timestamp_of_the_first_sample_is_not_negative - 'TimeSeries' object with name 'external_red-train-4.0mW'\n",
      "       Message: Timestamps should not be negative. It is recommended to align the `session_start_time` or `timestamps_reference_time` to be the earliest time value that occurs in the data, and shift all other signals accordingly.\n",
      "\n",
      ".65  Importance.BEST_PRACTICE_SUGGESTION: None - check_timestamp_of_the_first_sample_is_not_negative - 'TimeSeries' object with name 'external_red-train-3.0mW'\n",
      "       Message: Timestamps should not be negative. It is recommended to align the `session_start_time` or `timestamps_reference_time` to be the earliest time value that occurs in the data, and shift all other signals accordingly.\n",
      "\n",
      ".66  Importance.BEST_PRACTICE_SUGGESTION: None - check_timestamp_of_the_first_sample_is_not_negative - 'TimeSeries' object with name 'external_red-train-2.0mW'\n",
      "       Message: Timestamps should not be negative. It is recommended to align the `session_start_time` or `timestamps_reference_time` to be the earliest time value that occurs in the data, and shift all other signals accordingly.\n",
      "\n",
      ".67  Importance.BEST_PRACTICE_SUGGESTION: None - check_timestamp_of_the_first_sample_is_not_negative - 'TimeSeries' object with name 'external_red-train-10.0mW'\n",
      "       Message: Timestamps should not be negative. It is recommended to align the `session_start_time` or `timestamps_reference_time` to be the earliest time value that occurs in the data, and shift all other signals accordingly.\n",
      "\n",
      ".68  Importance.BEST_PRACTICE_SUGGESTION: None - check_timestamp_of_the_first_sample_is_not_negative - 'TimeSeries' object with name 'external_red-train-1.0mW'\n",
      "       Message: Timestamps should not be negative. It is recommended to align the `session_start_time` or `timestamps_reference_time` to be the earliest time value that occurs in the data, and shift all other signals accordingly.\n",
      "\n",
      ".69  Importance.BEST_PRACTICE_SUGGESTION: None - check_timestamp_of_the_first_sample_is_not_negative - 'TimeSeries' object with name 'external_red-short_pulse-5.0mW'\n",
      "       Message: Timestamps should not be negative. It is recommended to align the `session_start_time` or `timestamps_reference_time` to be the earliest time value that occurs in the data, and shift all other signals accordingly.\n",
      "\n",
      ".70  Importance.BEST_PRACTICE_SUGGESTION: None - check_timestamp_of_the_first_sample_is_not_negative - 'TimeSeries' object with name 'external_red-short_pulse-4.0mW'\n",
      "       Message: Timestamps should not be negative. It is recommended to align the `session_start_time` or `timestamps_reference_time` to be the earliest time value that occurs in the data, and shift all other signals accordingly.\n",
      "\n",
      ".71  Importance.BEST_PRACTICE_SUGGESTION: None - check_timestamp_of_the_first_sample_is_not_negative - 'TimeSeries' object with name 'external_red-short_pulse-3.0mW'\n",
      "       Message: Timestamps should not be negative. It is recommended to align the `session_start_time` or `timestamps_reference_time` to be the earliest time value that occurs in the data, and shift all other signals accordingly.\n",
      "\n",
      ".72  Importance.BEST_PRACTICE_SUGGESTION: None - check_timestamp_of_the_first_sample_is_not_negative - 'TimeSeries' object with name 'external_red-short_pulse-2.0mW'\n",
      "       Message: Timestamps should not be negative. It is recommended to align the `session_start_time` or `timestamps_reference_time` to be the earliest time value that occurs in the data, and shift all other signals accordingly.\n",
      "\n",
      ".73  Importance.BEST_PRACTICE_SUGGESTION: None - check_timestamp_of_the_first_sample_is_not_negative - 'TimeSeries' object with name 'external_red-short_pulse-10.0mW'\n",
      "       Message: Timestamps should not be negative. It is recommended to align the `session_start_time` or `timestamps_reference_time` to be the earliest time value that occurs in the data, and shift all other signals accordingly.\n",
      "\n",
      ".74  Importance.BEST_PRACTICE_SUGGESTION: None - check_timestamp_of_the_first_sample_is_not_negative - 'TimeSeries' object with name 'external_red-short_pulse-1.0mW'\n",
      "       Message: Timestamps should not be negative. It is recommended to align the `session_start_time` or `timestamps_reference_time` to be the earliest time value that occurs in the data, and shift all other signals accordingly.\n",
      "\n",
      ".75  Importance.BEST_PRACTICE_SUGGESTION: None - check_timestamp_of_the_first_sample_is_not_negative - 'TimeSeries' object with name 'external_red-long_pulse-5.0mW'\n",
      "       Message: Timestamps should not be negative. It is recommended to align the `session_start_time` or `timestamps_reference_time` to be the earliest time value that occurs in the data, and shift all other signals accordingly.\n",
      "\n",
      ".76  Importance.BEST_PRACTICE_SUGGESTION: None - check_timestamp_of_the_first_sample_is_not_negative - 'TimeSeries' object with name 'external_red-long_pulse-4.0mW'\n",
      "       Message: Timestamps should not be negative. It is recommended to align the `session_start_time` or `timestamps_reference_time` to be the earliest time value that occurs in the data, and shift all other signals accordingly.\n",
      "\n",
      ".77  Importance.BEST_PRACTICE_SUGGESTION: None - check_timestamp_of_the_first_sample_is_not_negative - 'TimeSeries' object with name 'external_red-long_pulse-3.0mW'\n",
      "       Message: Timestamps should not be negative. It is recommended to align the `session_start_time` or `timestamps_reference_time` to be the earliest time value that occurs in the data, and shift all other signals accordingly.\n",
      "\n",
      ".78  Importance.BEST_PRACTICE_SUGGESTION: None - check_timestamp_of_the_first_sample_is_not_negative - 'TimeSeries' object with name 'external_red-long_pulse-2.0mW'\n",
      "       Message: Timestamps should not be negative. It is recommended to align the `session_start_time` or `timestamps_reference_time` to be the earliest time value that occurs in the data, and shift all other signals accordingly.\n",
      "\n",
      ".79  Importance.BEST_PRACTICE_SUGGESTION: None - check_timestamp_of_the_first_sample_is_not_negative - 'TimeSeries' object with name 'external_red-long_pulse-10.0mW'\n",
      "       Message: Timestamps should not be negative. It is recommended to align the `session_start_time` or `timestamps_reference_time` to be the earliest time value that occurs in the data, and shift all other signals accordingly.\n",
      "\n",
      ".80  Importance.BEST_PRACTICE_SUGGESTION: None - check_timestamp_of_the_first_sample_is_not_negative - 'TimeSeries' object with name 'external_red-long_pulse-1.0mW'\n",
      "       Message: Timestamps should not be negative. It is recommended to align the `session_start_time` or `timestamps_reference_time` to be the earliest time value that occurs in the data, and shift all other signals accordingly.\n",
      "\n"
     ]
    }
   ],
   "source": [
    "from nwbinspector.inspector_tools import format_messages\n",
    "\n",
    "print(\"\\n\".join(format_messages(messages, levels=[\"importance\"])))"
   ]
  },
  {
   "cell_type": "code",
   "execution_count": null,
   "id": "4ad0e827",
   "metadata": {},
   "outputs": [],
   "source": []
  }
 ],
 "metadata": {
  "kernelspec": {
   "display_name": "Python 3 (ipykernel)",
   "language": "python",
   "name": "python3"
  },
  "language_info": {
   "codemirror_mode": {
    "name": "ipython",
    "version": 3
   },
   "file_extension": ".py",
   "mimetype": "text/x-python",
   "name": "python",
   "nbconvert_exporter": "python",
   "pygments_lexer": "ipython3",
   "version": "3.8.5"
  },
  "vscode": {
   "interpreter": {
    "hash": "d4d1e4263499bec80672ea0156c357c1ee493ec2b1c70f0acce89fc37c4a6abe"
   }
  }
 },
 "nbformat": 4,
 "nbformat_minor": 5
}
